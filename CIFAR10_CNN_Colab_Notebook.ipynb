{
  "cells": [
    {
      "cell_type": "markdown",
      "id": "c54b725b",
      "metadata": {
        "id": "c54b725b"
      },
      "source": [
        "# CIFAR-100 CNN Classification using PyTorch"
      ]
    },
    {
      "cell_type": "code",
      "execution_count": 23,
      "id": "c1857f3f",
      "metadata": {
        "id": "c1857f3f"
      },
      "outputs": [],
      "source": [
        "import torch\n",
        "import torchvision\n",
        "import torchvision.transforms as transforms\n",
        "import pandas as pd\n",
        "import numpy as np\n",
        "import matplotlib.pyplot as plt\n",
        "from PIL import Image\n",
        "import os\n",
        "import matplotlib.pyplot as plt"
      ]
    },
    {
      "cell_type": "code",
      "execution_count": 30,
      "id": "QA4FoWAWHmzA",
      "metadata": {
        "colab": {
          "base_uri": "https://localhost:8080/"
        },
        "id": "QA4FoWAWHmzA",
        "outputId": "c0a302c7-0d1a-40c5-8ace-d4c03957f9c4"
      },
      "outputs": [
        {
          "name": "stderr",
          "output_type": "stream",
          "text": [
            "100%|██████████| 170M/170M [00:03<00:00, 43.9MB/s]\n"
          ]
        },
        {
          "name": "stdout",
          "output_type": "stream",
          "text": [
            "Total length: 50000\n",
            "Total classes: 10\n"
          ]
        }
      ],
      "source": [
        "meta = torchvision.datasets.CIFAR10(root='./data', download=True)\n",
        "classes = meta.classes\n",
        "print(f\"Total length: {len(meta)}\")\n",
        "print(f\"Total classes: {len(classes)}\")"
      ]
    },
    {
      "cell_type": "code",
      "execution_count": 31,
      "id": "66nIWxKzGOEo",
      "metadata": {
        "colab": {
          "base_uri": "https://localhost:8080/",
          "height": 206
        },
        "id": "66nIWxKzGOEo",
        "outputId": "39f11921-3580-4098-b4c7-50950b260ff9"
      },
      "outputs": [
        {
          "data": {
            "application/vnd.google.colaboratory.intrinsic+json": {
              "summary": "{\n  \"name\": \"df\",\n  \"rows\": 50000,\n  \"fields\": [\n    {\n      \"column\": \"image\",\n      \"properties\": {\n        \"dtype\": \"object\",\n        \"semantic_type\": \"\",\n        \"description\": \"\"\n      }\n    },\n    {\n      \"column\": \"label\",\n      \"properties\": {\n        \"dtype\": \"number\",\n        \"std\": 2,\n        \"min\": 0,\n        \"max\": 9,\n        \"num_unique_values\": 10,\n        \"samples\": [\n          5,\n          9,\n          7\n        ],\n        \"semantic_type\": \"\",\n        \"description\": \"\"\n      }\n    },\n    {\n      \"column\": \"class_name\",\n      \"properties\": {\n        \"dtype\": \"category\",\n        \"num_unique_values\": 10,\n        \"samples\": [\n          \"dog\",\n          \"truck\",\n          \"horse\"\n        ],\n        \"semantic_type\": \"\",\n        \"description\": \"\"\n      }\n    }\n  ]\n}",
              "type": "dataframe",
              "variable_name": "df"
            },
            "text/html": [
              "\n",
              "  <div id=\"df-e7ea577a-abb8-4c20-b210-8ce7c25f25f4\" class=\"colab-df-container\">\n",
              "    <div>\n",
              "<style scoped>\n",
              "    .dataframe tbody tr th:only-of-type {\n",
              "        vertical-align: middle;\n",
              "    }\n",
              "\n",
              "    .dataframe tbody tr th {\n",
              "        vertical-align: top;\n",
              "    }\n",
              "\n",
              "    .dataframe thead th {\n",
              "        text-align: right;\n",
              "    }\n",
              "</style>\n",
              "<table border=\"1\" class=\"dataframe\">\n",
              "  <thead>\n",
              "    <tr style=\"text-align: right;\">\n",
              "      <th></th>\n",
              "      <th>image</th>\n",
              "      <th>label</th>\n",
              "      <th>class_name</th>\n",
              "    </tr>\n",
              "  </thead>\n",
              "  <tbody>\n",
              "    <tr>\n",
              "      <th>0</th>\n",
              "      <td>&lt;PIL.Image.Image image mode=RGB size=32x32 at ...</td>\n",
              "      <td>6</td>\n",
              "      <td>frog</td>\n",
              "    </tr>\n",
              "    <tr>\n",
              "      <th>1</th>\n",
              "      <td>&lt;PIL.Image.Image image mode=RGB size=32x32 at ...</td>\n",
              "      <td>9</td>\n",
              "      <td>truck</td>\n",
              "    </tr>\n",
              "    <tr>\n",
              "      <th>2</th>\n",
              "      <td>&lt;PIL.Image.Image image mode=RGB size=32x32 at ...</td>\n",
              "      <td>9</td>\n",
              "      <td>truck</td>\n",
              "    </tr>\n",
              "    <tr>\n",
              "      <th>3</th>\n",
              "      <td>&lt;PIL.Image.Image image mode=RGB size=32x32 at ...</td>\n",
              "      <td>4</td>\n",
              "      <td>deer</td>\n",
              "    </tr>\n",
              "    <tr>\n",
              "      <th>4</th>\n",
              "      <td>&lt;PIL.Image.Image image mode=RGB size=32x32 at ...</td>\n",
              "      <td>1</td>\n",
              "      <td>automobile</td>\n",
              "    </tr>\n",
              "  </tbody>\n",
              "</table>\n",
              "</div>\n",
              "    <div class=\"colab-df-buttons\">\n",
              "\n",
              "  <div class=\"colab-df-container\">\n",
              "    <button class=\"colab-df-convert\" onclick=\"convertToInteractive('df-e7ea577a-abb8-4c20-b210-8ce7c25f25f4')\"\n",
              "            title=\"Convert this dataframe to an interactive table.\"\n",
              "            style=\"display:none;\">\n",
              "\n",
              "  <svg xmlns=\"http://www.w3.org/2000/svg\" height=\"24px\" viewBox=\"0 -960 960 960\">\n",
              "    <path d=\"M120-120v-720h720v720H120Zm60-500h600v-160H180v160Zm220 220h160v-160H400v160Zm0 220h160v-160H400v160ZM180-400h160v-160H180v160Zm440 0h160v-160H620v160ZM180-180h160v-160H180v160Zm440 0h160v-160H620v160Z\"/>\n",
              "  </svg>\n",
              "    </button>\n",
              "\n",
              "  <style>\n",
              "    .colab-df-container {\n",
              "      display:flex;\n",
              "      gap: 12px;\n",
              "    }\n",
              "\n",
              "    .colab-df-convert {\n",
              "      background-color: #E8F0FE;\n",
              "      border: none;\n",
              "      border-radius: 50%;\n",
              "      cursor: pointer;\n",
              "      display: none;\n",
              "      fill: #1967D2;\n",
              "      height: 32px;\n",
              "      padding: 0 0 0 0;\n",
              "      width: 32px;\n",
              "    }\n",
              "\n",
              "    .colab-df-convert:hover {\n",
              "      background-color: #E2EBFA;\n",
              "      box-shadow: 0px 1px 2px rgba(60, 64, 67, 0.3), 0px 1px 3px 1px rgba(60, 64, 67, 0.15);\n",
              "      fill: #174EA6;\n",
              "    }\n",
              "\n",
              "    .colab-df-buttons div {\n",
              "      margin-bottom: 4px;\n",
              "    }\n",
              "\n",
              "    [theme=dark] .colab-df-convert {\n",
              "      background-color: #3B4455;\n",
              "      fill: #D2E3FC;\n",
              "    }\n",
              "\n",
              "    [theme=dark] .colab-df-convert:hover {\n",
              "      background-color: #434B5C;\n",
              "      box-shadow: 0px 1px 3px 1px rgba(0, 0, 0, 0.15);\n",
              "      filter: drop-shadow(0px 1px 2px rgba(0, 0, 0, 0.3));\n",
              "      fill: #FFFFFF;\n",
              "    }\n",
              "  </style>\n",
              "\n",
              "    <script>\n",
              "      const buttonEl =\n",
              "        document.querySelector('#df-e7ea577a-abb8-4c20-b210-8ce7c25f25f4 button.colab-df-convert');\n",
              "      buttonEl.style.display =\n",
              "        google.colab.kernel.accessAllowed ? 'block' : 'none';\n",
              "\n",
              "      async function convertToInteractive(key) {\n",
              "        const element = document.querySelector('#df-e7ea577a-abb8-4c20-b210-8ce7c25f25f4');\n",
              "        const dataTable =\n",
              "          await google.colab.kernel.invokeFunction('convertToInteractive',\n",
              "                                                    [key], {});\n",
              "        if (!dataTable) return;\n",
              "\n",
              "        const docLinkHtml = 'Like what you see? Visit the ' +\n",
              "          '<a target=\"_blank\" href=https://colab.research.google.com/notebooks/data_table.ipynb>data table notebook</a>'\n",
              "          + ' to learn more about interactive tables.';\n",
              "        element.innerHTML = '';\n",
              "        dataTable['output_type'] = 'display_data';\n",
              "        await google.colab.output.renderOutput(dataTable, element);\n",
              "        const docLink = document.createElement('div');\n",
              "        docLink.innerHTML = docLinkHtml;\n",
              "        element.appendChild(docLink);\n",
              "      }\n",
              "    </script>\n",
              "  </div>\n",
              "\n",
              "\n",
              "    <div id=\"df-a2235150-d7e4-4671-b763-e3ee45d18949\">\n",
              "      <button class=\"colab-df-quickchart\" onclick=\"quickchart('df-a2235150-d7e4-4671-b763-e3ee45d18949')\"\n",
              "                title=\"Suggest charts\"\n",
              "                style=\"display:none;\">\n",
              "\n",
              "<svg xmlns=\"http://www.w3.org/2000/svg\" height=\"24px\"viewBox=\"0 0 24 24\"\n",
              "     width=\"24px\">\n",
              "    <g>\n",
              "        <path d=\"M19 3H5c-1.1 0-2 .9-2 2v14c0 1.1.9 2 2 2h14c1.1 0 2-.9 2-2V5c0-1.1-.9-2-2-2zM9 17H7v-7h2v7zm4 0h-2V7h2v10zm4 0h-2v-4h2v4z\"/>\n",
              "    </g>\n",
              "</svg>\n",
              "      </button>\n",
              "\n",
              "<style>\n",
              "  .colab-df-quickchart {\n",
              "      --bg-color: #E8F0FE;\n",
              "      --fill-color: #1967D2;\n",
              "      --hover-bg-color: #E2EBFA;\n",
              "      --hover-fill-color: #174EA6;\n",
              "      --disabled-fill-color: #AAA;\n",
              "      --disabled-bg-color: #DDD;\n",
              "  }\n",
              "\n",
              "  [theme=dark] .colab-df-quickchart {\n",
              "      --bg-color: #3B4455;\n",
              "      --fill-color: #D2E3FC;\n",
              "      --hover-bg-color: #434B5C;\n",
              "      --hover-fill-color: #FFFFFF;\n",
              "      --disabled-bg-color: #3B4455;\n",
              "      --disabled-fill-color: #666;\n",
              "  }\n",
              "\n",
              "  .colab-df-quickchart {\n",
              "    background-color: var(--bg-color);\n",
              "    border: none;\n",
              "    border-radius: 50%;\n",
              "    cursor: pointer;\n",
              "    display: none;\n",
              "    fill: var(--fill-color);\n",
              "    height: 32px;\n",
              "    padding: 0;\n",
              "    width: 32px;\n",
              "  }\n",
              "\n",
              "  .colab-df-quickchart:hover {\n",
              "    background-color: var(--hover-bg-color);\n",
              "    box-shadow: 0 1px 2px rgba(60, 64, 67, 0.3), 0 1px 3px 1px rgba(60, 64, 67, 0.15);\n",
              "    fill: var(--button-hover-fill-color);\n",
              "  }\n",
              "\n",
              "  .colab-df-quickchart-complete:disabled,\n",
              "  .colab-df-quickchart-complete:disabled:hover {\n",
              "    background-color: var(--disabled-bg-color);\n",
              "    fill: var(--disabled-fill-color);\n",
              "    box-shadow: none;\n",
              "  }\n",
              "\n",
              "  .colab-df-spinner {\n",
              "    border: 2px solid var(--fill-color);\n",
              "    border-color: transparent;\n",
              "    border-bottom-color: var(--fill-color);\n",
              "    animation:\n",
              "      spin 1s steps(1) infinite;\n",
              "  }\n",
              "\n",
              "  @keyframes spin {\n",
              "    0% {\n",
              "      border-color: transparent;\n",
              "      border-bottom-color: var(--fill-color);\n",
              "      border-left-color: var(--fill-color);\n",
              "    }\n",
              "    20% {\n",
              "      border-color: transparent;\n",
              "      border-left-color: var(--fill-color);\n",
              "      border-top-color: var(--fill-color);\n",
              "    }\n",
              "    30% {\n",
              "      border-color: transparent;\n",
              "      border-left-color: var(--fill-color);\n",
              "      border-top-color: var(--fill-color);\n",
              "      border-right-color: var(--fill-color);\n",
              "    }\n",
              "    40% {\n",
              "      border-color: transparent;\n",
              "      border-right-color: var(--fill-color);\n",
              "      border-top-color: var(--fill-color);\n",
              "    }\n",
              "    60% {\n",
              "      border-color: transparent;\n",
              "      border-right-color: var(--fill-color);\n",
              "    }\n",
              "    80% {\n",
              "      border-color: transparent;\n",
              "      border-right-color: var(--fill-color);\n",
              "      border-bottom-color: var(--fill-color);\n",
              "    }\n",
              "    90% {\n",
              "      border-color: transparent;\n",
              "      border-bottom-color: var(--fill-color);\n",
              "    }\n",
              "  }\n",
              "</style>\n",
              "\n",
              "      <script>\n",
              "        async function quickchart(key) {\n",
              "          const quickchartButtonEl =\n",
              "            document.querySelector('#' + key + ' button');\n",
              "          quickchartButtonEl.disabled = true;  // To prevent multiple clicks.\n",
              "          quickchartButtonEl.classList.add('colab-df-spinner');\n",
              "          try {\n",
              "            const charts = await google.colab.kernel.invokeFunction(\n",
              "                'suggestCharts', [key], {});\n",
              "          } catch (error) {\n",
              "            console.error('Error during call to suggestCharts:', error);\n",
              "          }\n",
              "          quickchartButtonEl.classList.remove('colab-df-spinner');\n",
              "          quickchartButtonEl.classList.add('colab-df-quickchart-complete');\n",
              "        }\n",
              "        (() => {\n",
              "          let quickchartButtonEl =\n",
              "            document.querySelector('#df-a2235150-d7e4-4671-b763-e3ee45d18949 button');\n",
              "          quickchartButtonEl.style.display =\n",
              "            google.colab.kernel.accessAllowed ? 'block' : 'none';\n",
              "        })();\n",
              "      </script>\n",
              "    </div>\n",
              "\n",
              "    </div>\n",
              "  </div>\n"
            ],
            "text/plain": [
              "                                               image  label  class_name\n",
              "0  <PIL.Image.Image image mode=RGB size=32x32 at ...      6        frog\n",
              "1  <PIL.Image.Image image mode=RGB size=32x32 at ...      9       truck\n",
              "2  <PIL.Image.Image image mode=RGB size=32x32 at ...      9       truck\n",
              "3  <PIL.Image.Image image mode=RGB size=32x32 at ...      4        deer\n",
              "4  <PIL.Image.Image image mode=RGB size=32x32 at ...      1  automobile"
            ]
          },
          "execution_count": 31,
          "metadata": {},
          "output_type": "execute_result"
        }
      ],
      "source": [
        "data = torchvision.datasets.CIFAR10(root='./data', train=True, download=False)\n",
        "data_dict = {'image': [], 'label': [], 'class_name': []}\n",
        "\n",
        "for i in range(len(data)):\n",
        "    img, label = data[i]\n",
        "    data_dict['image'].append(img)\n",
        "    data_dict['label'].append(label)\n",
        "    data_dict['class_name'].append(classes[label])\n",
        "\n",
        "df = pd.DataFrame(data_dict)\n",
        "df.head()"
      ]
    },
    {
      "cell_type": "code",
      "execution_count": 32,
      "id": "37c54717",
      "metadata": {
        "colab": {
          "base_uri": "https://localhost:8080/",
          "height": 173
        },
        "id": "37c54717",
        "outputId": "7b6bc538-9467-43da-a8a3-dee4e97535bb"
      },
      "outputs": [
        {
          "data": {
            "image/png": "[encoded data removed]",
            "text/plain": [
              "<Figure size 2000x200 with 10 Axes>"
            ]
          },
          "metadata": {},
          "output_type": "display_data"
        }
      ],
      "source": [
        "fig, axes = plt.subplots(1, 10, figsize=(20, 2))\n",
        "for i in range(10):\n",
        "    idx = np.random.randint(len(df))\n",
        "    axes[i].imshow(df['image'][idx])\n",
        "    axes[i].axis('off')\n",
        "    axes[i].set_title(df['class_name'][idx])"
      ]
    },
    {
      "cell_type": "code",
      "execution_count": 33,
      "id": "sggxnuMVHQSw",
      "metadata": {
        "colab": {
          "base_uri": "https://localhost:8080/"
        },
        "id": "sggxnuMVHQSw",
        "outputId": "66ff60e2-0a71-4f6e-99a6-13a5d46cdd1b"
      },
      "outputs": [
        {
          "name": "stdout",
          "output_type": "stream",
          "text": [
            "Computed mean: tensor([0.4914, 0.4822, 0.4465])\n",
            " Computed std: tensor([0.2470, 0.2435, 0.2616])\n"
          ]
        }
      ],
      "source": [
        "from torchvision.transforms import ToTensor\n",
        "\n",
        "tensor_data = [ToTensor()(img) for img in df['image']]\n",
        "stacked = torch.stack(tensor_data)\n",
        "\n",
        "mean = stacked.mean(dim=[0, 2, 3])\n",
        "std = stacked.std(dim=[0, 2, 3])\n",
        "\n",
        "print(f\"Computed mean: {mean}\")\n",
        "print(f\" Computed std: {std}\")"
      ]
    },
    {
      "cell_type": "code",
      "execution_count": 34,
      "id": "1aed65db",
      "metadata": {
        "id": "1aed65db"
      },
      "outputs": [],
      "source": [
        "from torchvision import transforms\n",
        "from torch.utils.data import DataLoader\n",
        "\n",
        "mean = mean.tolist()\n",
        "std = std.tolist()\n",
        "\n",
        "train_transform = transforms.Compose([\n",
        "    transforms.RandomCrop(32, padding=4),\n",
        "    transforms.RandomHorizontalFlip(),\n",
        "    transforms.ToTensor(),\n",
        "    transforms.Normalize(mean, std),\n",
        "])\n",
        "\n",
        "test_transform = transforms.Compose([\n",
        "    transforms.ToTensor(),\n",
        "    transforms.Normalize(mean, std),\n",
        "])\n"
      ]
    },
    {
      "cell_type": "code",
      "execution_count": 35,
      "id": "OTdxlLQ1Jmly",
      "metadata": {
        "id": "OTdxlLQ1Jmly"
      },
      "outputs": [],
      "source": [
        "train_dataset = torchvision.datasets.CIFAR10(\n",
        "    root='./data', train=True, transform=train_transform\n",
        ")\n",
        "test_dataset = torchvision.datasets.CIFAR10(\n",
        "    root='./data', train=False, transform=test_transform\n",
        ")\n",
        "\n",
        "train_loader = DataLoader(train_dataset, batch_size=128, shuffle=True, num_workers=2)\n",
        "test_loader = DataLoader(test_dataset, batch_size=128, shuffle=False, num_workers=2)"
      ]
    },
    {
      "cell_type": "code",
      "execution_count": 36,
      "id": "cef0a201",
      "metadata": {
        "id": "cef0a201"
      },
      "outputs": [],
      "source": [
        "import torch.nn as nn\n",
        "import torch.nn.functional as F\n",
        "\n",
        "class CNN(nn.Module):\n",
        "    def __init__(self, num_classes=10):\n",
        "        super(CNN, self).__init__()\n",
        "        self.conv1 = nn.Conv2d(3, 64, 3, padding=1)\n",
        "        self.conv2 = nn.Conv2d(64, 128, 3, padding=1)\n",
        "        self.conv3 = nn.Conv2d(128, 256, 3, padding=1)\n",
        "        self.pool = nn.MaxPool2d(2, 2)\n",
        "        self.dropout = nn.Dropout(0.25)\n",
        "        self.fc1 = nn.Linear(256 * 4 * 4, 512)\n",
        "        self.fc2 = nn.Linear(512, num_classes)\n",
        "\n",
        "    def forward(self, x):\n",
        "        x = self.pool(F.relu(self.conv1(x)))  # -> 16x16\n",
        "        x = self.pool(F.relu(self.conv2(x)))  # -> 8x8\n",
        "        x = self.pool(F.relu(self.conv3(x)))  # -> 4x4\n",
        "        x = x.view(-1, 256 * 4 * 4)\n",
        "        x = self.dropout(x)\n",
        "        x = F.relu(self.fc1(x))\n",
        "        x = self.dropout(x)\n",
        "        x = self.fc2(x)\n",
        "        return x\n",
        "\n",
        "device = torch.device(\"cuda\" if torch.cuda.is_available() else \"cpu\")\n",
        "model = CNN().to(device)"
      ]
    },
    {
      "cell_type": "code",
      "execution_count": 37,
      "id": "429dc0ce",
      "metadata": {
        "id": "429dc0ce"
      },
      "outputs": [],
      "source": [
        "import torch.optim as optim\n",
        "\n",
        "criterion = nn.CrossEntropyLoss(label_smoothing=0.1)\n",
        "optimizer = optim.SGD(model.parameters(), lr=0.1, momentum=0.9, weight_decay=5e-4)\n",
        "scheduler = torch.optim.lr_scheduler.CosineAnnealingLR(optimizer, T_max=30)"
      ]
    },
    {
      "cell_type": "code",
      "execution_count": 38,
      "id": "-krypvslLM7Q",
      "metadata": {
        "id": "-krypvslLM7Q"
      },
      "outputs": [],
      "source": [
        "patience = 10\n",
        "epochs_no_improve = 0\n",
        "best_val_acc = 0.0\n",
        "early_stop = False"
      ]
    },
    {
      "cell_type": "code",
      "execution_count": 39,
      "id": "116f0778",
      "metadata": {
        "colab": {
          "base_uri": "https://localhost:8080/"
        },
        "id": "116f0778",
        "outputId": "6afcf07b-6c45-42a4-afa5-203e341e1591"
      },
      "outputs": [
        {
          "name": "stderr",
          "output_type": "stream",
          "text": [
            "Epoch 1 [Train]: 100%|██████████| 391/391 [00:19<00:00, 20.03it/s]\n",
            "Epoch 1 [Val]: 100%|██████████| 79/79 [00:02<00:00, 28.31it/s]\n"
          ]
        },
        {
          "name": "stdout",
          "output_type": "stream",
          "text": [
            "Epoch 1: Train Loss=1.8331, Val Loss=1.5413, Val Acc=52.89%\n",
            "New best model saved.\n"
          ]
        },
        {
          "name": "stderr",
          "output_type": "stream",
          "text": [
            "Epoch 2 [Train]: 100%|██████████| 391/391 [00:20<00:00, 18.62it/s]\n",
            "Epoch 2 [Val]: 100%|██████████| 79/79 [00:02<00:00, 29.57it/s]\n"
          ]
        },
        {
          "name": "stdout",
          "output_type": "stream",
          "text": [
            "Epoch 2: Train Loss=1.5702, Val Loss=1.4067, Val Acc=60.34%\n",
            "New best model saved.\n"
          ]
        },
        {
          "name": "stderr",
          "output_type": "stream",
          "text": [
            "Epoch 3 [Train]: 100%|██████████| 391/391 [00:20<00:00, 18.87it/s]\n",
            "Epoch 3 [Val]: 100%|██████████| 79/79 [00:02<00:00, 29.97it/s]\n"
          ]
        },
        {
          "name": "stdout",
          "output_type": "stream",
          "text": [
            "Epoch 3: Train Loss=1.4570, Val Loss=1.3187, Val Acc=65.41%\n",
            "New best model saved.\n"
          ]
        },
        {
          "name": "stderr",
          "output_type": "stream",
          "text": [
            "Epoch 4 [Train]: 100%|██████████| 391/391 [00:20<00:00, 19.39it/s]\n",
            "Epoch 4 [Val]: 100%|██████████| 79/79 [00:02<00:00, 30.59it/s]\n"
          ]
        },
        {
          "name": "stdout",
          "output_type": "stream",
          "text": [
            "Epoch 4: Train Loss=1.3833, Val Loss=1.3324, Val Acc=63.57%\n",
            "No improvement for 1 epochs.\n"
          ]
        },
        {
          "name": "stderr",
          "output_type": "stream",
          "text": [
            "Epoch 5 [Train]: 100%|██████████| 391/391 [00:19<00:00, 19.88it/s]\n",
            "Epoch 5 [Val]: 100%|██████████| 79/79 [00:03<00:00, 23.43it/s]\n"
          ]
        },
        {
          "name": "stdout",
          "output_type": "stream",
          "text": [
            "Epoch 5: Train Loss=1.3302, Val Loss=1.2435, Val Acc=68.20%\n",
            "New best model saved.\n"
          ]
        },
        {
          "name": "stderr",
          "output_type": "stream",
          "text": [
            "Epoch 6 [Train]: 100%|██████████| 391/391 [00:19<00:00, 20.06it/s]\n",
            "Epoch 6 [Val]: 100%|██████████| 79/79 [00:02<00:00, 27.64it/s]\n"
          ]
        },
        {
          "name": "stdout",
          "output_type": "stream",
          "text": [
            "Epoch 6: Train Loss=1.2828, Val Loss=1.1506, Val Acc=73.05%\n",
            "New best model saved.\n"
          ]
        },
        {
          "name": "stderr",
          "output_type": "stream",
          "text": [
            "Epoch 7 [Train]: 100%|██████████| 391/391 [00:20<00:00, 18.95it/s]\n",
            "Epoch 7 [Val]: 100%|██████████| 79/79 [00:02<00:00, 30.34it/s]\n"
          ]
        },
        {
          "name": "stdout",
          "output_type": "stream",
          "text": [
            "Epoch 7: Train Loss=1.2528, Val Loss=1.1586, Val Acc=72.71%\n",
            "No improvement for 1 epochs.\n"
          ]
        },
        {
          "name": "stderr",
          "output_type": "stream",
          "text": [
            "Epoch 8 [Train]: 100%|██████████| 391/391 [00:20<00:00, 19.11it/s]\n",
            "Epoch 8 [Val]: 100%|██████████| 79/79 [00:02<00:00, 30.17it/s]\n"
          ]
        },
        {
          "name": "stdout",
          "output_type": "stream",
          "text": [
            "Epoch 8: Train Loss=1.2155, Val Loss=1.1629, Val Acc=72.17%\n",
            "No improvement for 2 epochs.\n"
          ]
        },
        {
          "name": "stderr",
          "output_type": "stream",
          "text": [
            "Epoch 9 [Train]: 100%|██████████| 391/391 [00:20<00:00, 19.04it/s]\n",
            "Epoch 9 [Val]: 100%|██████████| 79/79 [00:02<00:00, 30.40it/s]\n"
          ]
        },
        {
          "name": "stdout",
          "output_type": "stream",
          "text": [
            "Epoch 9: Train Loss=1.1804, Val Loss=1.1037, Val Acc=75.30%\n",
            "New best model saved.\n"
          ]
        },
        {
          "name": "stderr",
          "output_type": "stream",
          "text": [
            "Epoch 10 [Train]: 100%|██████████| 391/391 [00:19<00:00, 19.98it/s]\n",
            "Epoch 10 [Val]: 100%|██████████| 79/79 [00:03<00:00, 22.30it/s]\n"
          ]
        },
        {
          "name": "stdout",
          "output_type": "stream",
          "text": [
            "Epoch 10: Train Loss=1.1533, Val Loss=1.0633, Val Acc=77.21%\n",
            "New best model saved.\n"
          ]
        },
        {
          "name": "stderr",
          "output_type": "stream",
          "text": [
            "Epoch 11 [Train]: 100%|██████████| 391/391 [00:19<00:00, 19.98it/s]\n",
            "Epoch 11 [Val]: 100%|██████████| 79/79 [00:02<00:00, 27.51it/s]\n"
          ]
        },
        {
          "name": "stdout",
          "output_type": "stream",
          "text": [
            "Epoch 11: Train Loss=1.1302, Val Loss=1.0791, Val Acc=76.57%\n",
            "No improvement for 1 epochs.\n"
          ]
        },
        {
          "name": "stderr",
          "output_type": "stream",
          "text": [
            "Epoch 12 [Train]: 100%|██████████| 391/391 [00:20<00:00, 19.51it/s]\n",
            "Epoch 12 [Val]: 100%|██████████| 79/79 [00:02<00:00, 30.31it/s]\n"
          ]
        },
        {
          "name": "stdout",
          "output_type": "stream",
          "text": [
            "Epoch 12: Train Loss=1.1033, Val Loss=1.0180, Val Acc=78.87%\n",
            "New best model saved.\n"
          ]
        },
        {
          "name": "stderr",
          "output_type": "stream",
          "text": [
            "Epoch 13 [Train]: 100%|██████████| 391/391 [00:20<00:00, 19.07it/s]\n",
            "Epoch 13 [Val]: 100%|██████████| 79/79 [00:02<00:00, 30.37it/s]\n"
          ]
        },
        {
          "name": "stdout",
          "output_type": "stream",
          "text": [
            "Epoch 13: Train Loss=1.0709, Val Loss=1.0188, Val Acc=78.83%\n",
            "No improvement for 1 epochs.\n"
          ]
        },
        {
          "name": "stderr",
          "output_type": "stream",
          "text": [
            "Epoch 14 [Train]: 100%|██████████| 391/391 [00:20<00:00, 19.05it/s]\n",
            "Epoch 14 [Val]: 100%|██████████| 79/79 [00:02<00:00, 30.47it/s]\n"
          ]
        },
        {
          "name": "stdout",
          "output_type": "stream",
          "text": [
            "Epoch 14: Train Loss=1.0503, Val Loss=1.0081, Val Acc=79.25%\n",
            "New best model saved.\n"
          ]
        },
        {
          "name": "stderr",
          "output_type": "stream",
          "text": [
            "Epoch 15 [Train]: 100%|██████████| 391/391 [00:19<00:00, 20.16it/s]\n",
            "Epoch 15 [Val]: 100%|██████████| 79/79 [00:03<00:00, 21.75it/s]\n"
          ]
        },
        {
          "name": "stdout",
          "output_type": "stream",
          "text": [
            "Epoch 15: Train Loss=1.0185, Val Loss=0.9749, Val Acc=80.98%\n",
            "New best model saved.\n"
          ]
        },
        {
          "name": "stderr",
          "output_type": "stream",
          "text": [
            "Epoch 16 [Train]: 100%|██████████| 391/391 [00:19<00:00, 20.17it/s]\n",
            "Epoch 16 [Val]: 100%|██████████| 79/79 [00:02<00:00, 29.84it/s]\n"
          ]
        },
        {
          "name": "stdout",
          "output_type": "stream",
          "text": [
            "Epoch 16: Train Loss=0.9976, Val Loss=0.9626, Val Acc=80.96%\n",
            "No improvement for 1 epochs.\n"
          ]
        },
        {
          "name": "stderr",
          "output_type": "stream",
          "text": [
            "Epoch 17 [Train]: 100%|██████████| 391/391 [00:20<00:00, 18.99it/s]\n",
            "Epoch 17 [Val]: 100%|██████████| 79/79 [00:02<00:00, 30.59it/s]\n"
          ]
        },
        {
          "name": "stdout",
          "output_type": "stream",
          "text": [
            "Epoch 17: Train Loss=0.9745, Val Loss=0.9115, Val Acc=83.59%\n",
            "New best model saved.\n"
          ]
        },
        {
          "name": "stderr",
          "output_type": "stream",
          "text": [
            "Epoch 18 [Train]: 100%|██████████| 391/391 [00:20<00:00, 18.85it/s]\n",
            "Epoch 18 [Val]: 100%|██████████| 79/79 [00:02<00:00, 30.28it/s]\n"
          ]
        },
        {
          "name": "stdout",
          "output_type": "stream",
          "text": [
            "Epoch 18: Train Loss=0.9506, Val Loss=0.9325, Val Acc=81.98%\n",
            "No improvement for 1 epochs.\n"
          ]
        },
        {
          "name": "stderr",
          "output_type": "stream",
          "text": [
            "Epoch 19 [Train]: 100%|██████████| 391/391 [00:20<00:00, 18.96it/s]\n",
            "Epoch 19 [Val]: 100%|██████████| 79/79 [00:02<00:00, 30.11it/s]\n"
          ]
        },
        {
          "name": "stdout",
          "output_type": "stream",
          "text": [
            "Epoch 19: Train Loss=0.9283, Val Loss=0.8958, Val Acc=84.08%\n",
            "New best model saved.\n"
          ]
        },
        {
          "name": "stderr",
          "output_type": "stream",
          "text": [
            "Epoch 20 [Train]: 100%|██████████| 391/391 [00:20<00:00, 19.54it/s]\n",
            "Epoch 20 [Val]: 100%|██████████| 79/79 [00:03<00:00, 20.82it/s]\n"
          ]
        },
        {
          "name": "stdout",
          "output_type": "stream",
          "text": [
            "Epoch 20: Train Loss=0.9075, Val Loss=0.8774, Val Acc=85.16%\n",
            "New best model saved.\n"
          ]
        },
        {
          "name": "stderr",
          "output_type": "stream",
          "text": [
            "Epoch 21 [Train]: 100%|██████████| 391/391 [00:19<00:00, 20.15it/s]\n",
            "Epoch 21 [Val]: 100%|██████████| 79/79 [00:02<00:00, 29.72it/s]\n"
          ]
        },
        {
          "name": "stdout",
          "output_type": "stream",
          "text": [
            "Epoch 21: Train Loss=0.8896, Val Loss=0.8672, Val Acc=85.59%\n",
            "New best model saved.\n"
          ]
        },
        {
          "name": "stderr",
          "output_type": "stream",
          "text": [
            "Epoch 22 [Train]: 100%|██████████| 391/391 [00:20<00:00, 19.31it/s]\n",
            "Epoch 22 [Val]: 100%|██████████| 79/79 [00:02<00:00, 30.33it/s]\n"
          ]
        },
        {
          "name": "stdout",
          "output_type": "stream",
          "text": [
            "Epoch 22: Train Loss=0.8729, Val Loss=0.8722, Val Acc=85.10%\n",
            "No improvement for 1 epochs.\n"
          ]
        },
        {
          "name": "stderr",
          "output_type": "stream",
          "text": [
            "Epoch 23 [Train]: 100%|██████████| 391/391 [00:20<00:00, 18.80it/s]\n",
            "Epoch 23 [Val]: 100%|██████████| 79/79 [00:02<00:00, 28.11it/s]\n"
          ]
        },
        {
          "name": "stdout",
          "output_type": "stream",
          "text": [
            "Epoch 23: Train Loss=0.8584, Val Loss=0.8517, Val Acc=85.81%\n",
            "New best model saved.\n"
          ]
        },
        {
          "name": "stderr",
          "output_type": "stream",
          "text": [
            "Epoch 24 [Train]: 100%|██████████| 391/391 [00:20<00:00, 19.05it/s]\n",
            "Epoch 24 [Val]: 100%|██████████| 79/79 [00:02<00:00, 28.27it/s]\n"
          ]
        },
        {
          "name": "stdout",
          "output_type": "stream",
          "text": [
            "Epoch 24: Train Loss=0.8378, Val Loss=0.8482, Val Acc=86.10%\n",
            "New best model saved.\n"
          ]
        },
        {
          "name": "stderr",
          "output_type": "stream",
          "text": [
            "Epoch 25 [Train]: 100%|██████████| 391/391 [00:19<00:00, 19.56it/s]\n",
            "Epoch 25 [Val]: 100%|██████████| 79/79 [00:03<00:00, 21.69it/s]\n"
          ]
        },
        {
          "name": "stdout",
          "output_type": "stream",
          "text": [
            "Epoch 25: Train Loss=0.8244, Val Loss=0.8270, Val Acc=86.91%\n",
            "New best model saved.\n"
          ]
        },
        {
          "name": "stderr",
          "output_type": "stream",
          "text": [
            "Epoch 26 [Train]: 100%|██████████| 391/391 [00:19<00:00, 19.73it/s]\n",
            "Epoch 26 [Val]: 100%|██████████| 79/79 [00:03<00:00, 24.78it/s]\n"
          ]
        },
        {
          "name": "stdout",
          "output_type": "stream",
          "text": [
            "Epoch 26: Train Loss=0.8138, Val Loss=0.8232, Val Acc=87.16%\n",
            "New best model saved.\n"
          ]
        },
        {
          "name": "stderr",
          "output_type": "stream",
          "text": [
            "Epoch 27 [Train]: 100%|██████████| 391/391 [00:20<00:00, 19.55it/s]\n",
            "Epoch 27 [Val]: 100%|██████████| 79/79 [00:02<00:00, 30.30it/s]\n"
          ]
        },
        {
          "name": "stdout",
          "output_type": "stream",
          "text": [
            "Epoch 27: Train Loss=0.8057, Val Loss=0.8168, Val Acc=87.43%\n",
            "New best model saved.\n"
          ]
        },
        {
          "name": "stderr",
          "output_type": "stream",
          "text": [
            "Epoch 28 [Train]: 100%|██████████| 391/391 [00:20<00:00, 18.97it/s]\n",
            "Epoch 28 [Val]: 100%|██████████| 79/79 [00:02<00:00, 29.83it/s]\n"
          ]
        },
        {
          "name": "stdout",
          "output_type": "stream",
          "text": [
            "Epoch 28: Train Loss=0.7988, Val Loss=0.8137, Val Acc=87.45%\n",
            "New best model saved.\n"
          ]
        },
        {
          "name": "stderr",
          "output_type": "stream",
          "text": [
            "Epoch 29 [Train]: 100%|██████████| 391/391 [00:20<00:00, 19.15it/s]\n",
            "Epoch 29 [Val]: 100%|██████████| 79/79 [00:02<00:00, 30.57it/s]\n"
          ]
        },
        {
          "name": "stdout",
          "output_type": "stream",
          "text": [
            "Epoch 29: Train Loss=0.7929, Val Loss=0.8098, Val Acc=87.56%\n",
            "New best model saved.\n"
          ]
        },
        {
          "name": "stderr",
          "output_type": "stream",
          "text": [
            "Epoch 30 [Train]: 100%|██████████| 391/391 [00:19<00:00, 19.72it/s]\n",
            "Epoch 30 [Val]: 100%|██████████| 79/79 [00:03<00:00, 23.68it/s]\n"
          ]
        },
        {
          "name": "stdout",
          "output_type": "stream",
          "text": [
            "Epoch 30: Train Loss=0.7894, Val Loss=0.8089, Val Acc=87.67%\n",
            "New best model saved.\n"
          ]
        },
        {
          "name": "stderr",
          "output_type": "stream",
          "text": [
            "Epoch 31 [Train]: 100%|██████████| 391/391 [00:19<00:00, 19.94it/s]\n",
            "Epoch 31 [Val]: 100%|██████████| 79/79 [00:02<00:00, 26.58it/s]\n"
          ]
        },
        {
          "name": "stdout",
          "output_type": "stream",
          "text": [
            "Epoch 31: Train Loss=0.7903, Val Loss=0.8089, Val Acc=87.67%\n",
            "No improvement for 1 epochs.\n"
          ]
        },
        {
          "name": "stderr",
          "output_type": "stream",
          "text": [
            "Epoch 32 [Train]: 100%|██████████| 391/391 [00:19<00:00, 19.63it/s]\n",
            "Epoch 32 [Val]: 100%|██████████| 79/79 [00:02<00:00, 30.58it/s]\n"
          ]
        },
        {
          "name": "stdout",
          "output_type": "stream",
          "text": [
            "Epoch 32: Train Loss=0.7903, Val Loss=0.8092, Val Acc=87.65%\n",
            "No improvement for 2 epochs.\n"
          ]
        },
        {
          "name": "stderr",
          "output_type": "stream",
          "text": [
            "Epoch 33 [Train]: 100%|██████████| 391/391 [00:20<00:00, 19.23it/s]\n",
            "Epoch 33 [Val]: 100%|██████████| 79/79 [00:02<00:00, 30.29it/s]\n"
          ]
        },
        {
          "name": "stdout",
          "output_type": "stream",
          "text": [
            "Epoch 33: Train Loss=0.7918, Val Loss=0.8101, Val Acc=87.84%\n",
            "New best model saved.\n"
          ]
        },
        {
          "name": "stderr",
          "output_type": "stream",
          "text": [
            "Epoch 34 [Train]: 100%|██████████| 391/391 [00:20<00:00, 18.79it/s]\n",
            "Epoch 34 [Val]: 100%|██████████| 79/79 [00:02<00:00, 29.39it/s]\n"
          ]
        },
        {
          "name": "stdout",
          "output_type": "stream",
          "text": [
            "Epoch 34: Train Loss=0.7940, Val Loss=0.8108, Val Acc=87.63%\n",
            "No improvement for 1 epochs.\n"
          ]
        },
        {
          "name": "stderr",
          "output_type": "stream",
          "text": [
            "Epoch 35 [Train]: 100%|██████████| 391/391 [00:20<00:00, 19.41it/s]\n",
            "Epoch 35 [Val]: 100%|██████████| 79/79 [00:03<00:00, 22.33it/s]\n"
          ]
        },
        {
          "name": "stdout",
          "output_type": "stream",
          "text": [
            "Epoch 35: Train Loss=0.8004, Val Loss=0.8143, Val Acc=87.53%\n",
            "No improvement for 2 epochs.\n"
          ]
        },
        {
          "name": "stderr",
          "output_type": "stream",
          "text": [
            "Epoch 36 [Train]: 100%|██████████| 391/391 [00:19<00:00, 19.68it/s]\n",
            "Epoch 36 [Val]: 100%|██████████| 79/79 [00:03<00:00, 24.27it/s]\n"
          ]
        },
        {
          "name": "stdout",
          "output_type": "stream",
          "text": [
            "Epoch 36: Train Loss=0.8016, Val Loss=0.8245, Val Acc=87.02%\n",
            "No improvement for 3 epochs.\n"
          ]
        },
        {
          "name": "stderr",
          "output_type": "stream",
          "text": [
            "Epoch 37 [Train]: 100%|██████████| 391/391 [00:19<00:00, 19.70it/s]\n",
            "Epoch 37 [Val]: 100%|██████████| 79/79 [00:02<00:00, 29.47it/s]\n"
          ]
        },
        {
          "name": "stdout",
          "output_type": "stream",
          "text": [
            "Epoch 37: Train Loss=0.8116, Val Loss=0.8343, Val Acc=86.89%\n",
            "No improvement for 4 epochs.\n"
          ]
        },
        {
          "name": "stderr",
          "output_type": "stream",
          "text": [
            "Epoch 38 [Train]: 100%|██████████| 391/391 [00:20<00:00, 18.83it/s]\n",
            "Epoch 38 [Val]: 100%|██████████| 79/79 [00:02<00:00, 29.63it/s]\n"
          ]
        },
        {
          "name": "stdout",
          "output_type": "stream",
          "text": [
            "Epoch 38: Train Loss=0.8181, Val Loss=0.8274, Val Acc=87.47%\n",
            "No improvement for 5 epochs.\n"
          ]
        },
        {
          "name": "stderr",
          "output_type": "stream",
          "text": [
            "Epoch 39 [Train]: 100%|██████████| 391/391 [00:20<00:00, 18.70it/s]\n",
            "Epoch 39 [Val]: 100%|██████████| 79/79 [00:02<00:00, 30.71it/s]\n"
          ]
        },
        {
          "name": "stdout",
          "output_type": "stream",
          "text": [
            "Epoch 39: Train Loss=0.8286, Val Loss=0.8409, Val Acc=86.49%\n",
            "No improvement for 6 epochs.\n"
          ]
        },
        {
          "name": "stderr",
          "output_type": "stream",
          "text": [
            "Epoch 40 [Train]: 100%|██████████| 391/391 [00:20<00:00, 19.23it/s]\n",
            "Epoch 40 [Val]: 100%|██████████| 79/79 [00:02<00:00, 27.13it/s]\n"
          ]
        },
        {
          "name": "stdout",
          "output_type": "stream",
          "text": [
            "Epoch 40: Train Loss=0.8451, Val Loss=0.8404, Val Acc=86.59%\n",
            "No improvement for 7 epochs.\n"
          ]
        },
        {
          "name": "stderr",
          "output_type": "stream",
          "text": [
            "Epoch 41 [Train]: 100%|██████████| 391/391 [00:19<00:00, 19.95it/s]\n",
            "Epoch 41 [Val]: 100%|██████████| 79/79 [00:03<00:00, 22.54it/s]\n"
          ]
        },
        {
          "name": "stdout",
          "output_type": "stream",
          "text": [
            "Epoch 41: Train Loss=0.8615, Val Loss=0.8607, Val Acc=85.85%\n",
            "No improvement for 8 epochs.\n"
          ]
        },
        {
          "name": "stderr",
          "output_type": "stream",
          "text": [
            "Epoch 42 [Train]: 100%|██████████| 391/391 [00:19<00:00, 19.73it/s]\n",
            "Epoch 42 [Val]: 100%|██████████| 79/79 [00:02<00:00, 30.47it/s]\n"
          ]
        },
        {
          "name": "stdout",
          "output_type": "stream",
          "text": [
            "Epoch 42: Train Loss=0.8768, Val Loss=0.8742, Val Acc=85.27%\n",
            "No improvement for 9 epochs.\n"
          ]
        },
        {
          "name": "stderr",
          "output_type": "stream",
          "text": [
            "Epoch 43 [Train]: 100%|██████████| 391/391 [00:20<00:00, 18.87it/s]\n",
            "Epoch 43 [Val]: 100%|██████████| 79/79 [00:02<00:00, 29.64it/s]"
          ]
        },
        {
          "name": "stdout",
          "output_type": "stream",
          "text": [
            "Epoch 43: Train Loss=0.8926, Val Loss=0.8988, Val Acc=84.05%\n",
            "No improvement for 10 epochs.\n",
            "Early stopping at epoch 43\n"
          ]
        },
        {
          "name": "stderr",
          "output_type": "stream",
          "text": [
            "\n"
          ]
        }
      ],
      "source": [
        "from tqdm import tqdm\n",
        "\n",
        "num_epochs = 100\n",
        "train_losses, val_losses, val_accuracies = [], [], []\n",
        "\n",
        "for epoch in range(1, num_epochs + 1):\n",
        "    if early_stop:\n",
        "        print(f\"Early stopping at epoch {epoch-1}\")\n",
        "        break\n",
        "\n",
        "    model.train()\n",
        "    running_loss = 0.0\n",
        "    for inputs, labels in tqdm(train_loader, desc=f\"Epoch {epoch} [Train]\"):\n",
        "        inputs, labels = inputs.to(device), labels.to(device)\n",
        "        optimizer.zero_grad()\n",
        "        outputs = model(inputs)\n",
        "        loss = criterion(outputs, labels)\n",
        "        loss.backward()\n",
        "        optimizer.step()\n",
        "        running_loss += loss.item()\n",
        "\n",
        "    train_loss = running_loss / len(train_loader)\n",
        "    train_losses.append(train_loss)\n",
        "\n",
        "    # Validation\n",
        "    model.eval()\n",
        "    val_loss, correct, total = 0.0, 0, 0\n",
        "    with torch.no_grad():\n",
        "        for inputs, labels in tqdm(test_loader, desc=f\"Epoch {epoch} [Val]\"):\n",
        "            inputs, labels = inputs.to(device), labels.to(device)\n",
        "            outputs = model(inputs)\n",
        "            loss = criterion(outputs, labels)\n",
        "            val_loss += loss.item()\n",
        "            _, predicted = outputs.max(1)\n",
        "            total += labels.size(0)\n",
        "            correct += predicted.eq(labels).sum().item()\n",
        "\n",
        "    val_loss /= len(test_loader)\n",
        "    val_acc = 100. * correct / total\n",
        "    val_losses.append(val_loss)\n",
        "    val_accuracies.append(val_acc)\n",
        "\n",
        "    scheduler.step()\n",
        "\n",
        "    print(f\"Epoch {epoch}: Train Loss={train_loss:.4f}, Val Loss={val_loss:.4f}, Val Acc={val_acc:.2f}%\")\n",
        "\n",
        "    # Check for improvement\n",
        "    if val_acc > best_val_acc:\n",
        "        best_val_acc = val_acc\n",
        "        torch.save(model.state_dict(), 'best_cifar10_model.pth')\n",
        "        print(\"New best model saved.\")\n",
        "        epochs_no_improve = 0\n",
        "    else:\n",
        "        epochs_no_improve += 1\n",
        "        print(f\"No improvement for {epochs_no_improve} epochs.\")\n",
        "\n",
        "    if epochs_no_improve >= patience:\n",
        "        early_stop = True"
      ]
    },
    {
      "cell_type": "code",
      "execution_count": 40,
      "id": "Y4oawRn4KRDe",
      "metadata": {
        "colab": {
          "base_uri": "https://localhost:8080/",
          "height": 391
        },
        "id": "Y4oawRn4KRDe",
        "outputId": "ac7f6c65-fbd0-4c74-f06d-f7b53ae13de2"
      },
      "outputs": [
        {
          "data": {
            "image/png": "[encoded data removed]",
            "text/plain": [
              "<Figure size 1200x400 with 2 Axes>"
            ]
          },
          "metadata": {},
          "output_type": "display_data"
        }
      ],
      "source": [
        "plt.figure(figsize=(12, 4))\n",
        "\n",
        "plt.subplot(1, 2, 1)\n",
        "plt.plot(train_losses, label='Train Loss')\n",
        "plt.plot(val_losses, label='Val Loss')\n",
        "plt.title(\"Loss Curve\")\n",
        "plt.legend()\n",
        "\n",
        "plt.subplot(1, 2, 2)\n",
        "plt.plot(val_accuracies, label='Validation Accuracy')\n",
        "plt.title(\"Accuracy Curve\")\n",
        "plt.legend()\n",
        "plt.show()"
      ]
    },
    {
      "cell_type": "code",
      "execution_count": 41,
      "id": "9SjEQyGSKZ1T",
      "metadata": {
        "colab": {
          "base_uri": "https://localhost:8080/"
        },
        "id": "9SjEQyGSKZ1T",
        "outputId": "257865e1-f4e7-4a99-d904-aeb04069e933"
      },
      "outputs": [
        {
          "name": "stdout",
          "output_type": "stream",
          "text": [
            "🎯 Final Test Accuracy: 87.84%\n"
          ]
        }
      ],
      "source": [
        "# Load best model\n",
        "model.load_state_dict(torch.load(\"best_cifar10_model.pth\"))\n",
        "\n",
        "def evaluate(model, loader):\n",
        "    model.eval()\n",
        "    correct, total = 0, 0\n",
        "    with torch.no_grad():\n",
        "        for inputs, labels in loader:\n",
        "            inputs, labels = inputs.to(device), labels.to(device)\n",
        "            outputs = model(inputs)\n",
        "            _, predicted = outputs.max(1)\n",
        "            total += labels.size(0)\n",
        "            correct += predicted.eq(labels).sum().item()\n",
        "    acc = 100. * correct / total\n",
        "    print(f\"🎯 Final Test Accuracy: {acc:.2f}%\")\n",
        "\n",
        "evaluate(model, test_loader)\n"
      ]
    }
  ],
  "metadata": {
    "accelerator": "GPU",
    "colab": {
      "gpuType": "T4",
      "provenance": []
    },
    "kernelspec": {
      "display_name": "Python 3",
      "name": "python3"
    },
    "language_info": {
      "name": "python"
    }
  },
  "nbformat": 4,
  "nbformat_minor": 5
}
