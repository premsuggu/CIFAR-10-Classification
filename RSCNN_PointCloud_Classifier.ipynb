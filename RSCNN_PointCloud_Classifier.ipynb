{
  "nbformat": 4,
  "nbformat_minor": 0,
  "metadata": {
    "colab": {
      "provenance": [],
      "gpuType": "T4"
    },
    "kernelspec": {
      "name": "python3",
      "display_name": "Python 3"
    },
    "language_info": {
      "name": "python"
    },
    "accelerator": "GPU"
  },
  "cells": [
    {
      "cell_type": "code",
      "source": [
        "import torch\n",
        "import torch.nn as nn\n",
        "import torchvision\n",
        "import torchvision.transforms as transforms\n",
        "import matplotlib.pyplot as plt\n",
        "import numpy as np"
      ],
      "metadata": {
        "id": "MWv_BGrpXRdc"
      },
      "execution_count": 7,
      "outputs": []
    },
    {
      "cell_type": "code",
      "source": [
        "transform_train = transforms.Compose([\n",
        "    transforms.RandomCrop(32, padding=4),\n",
        "    transforms.RandomHorizontalFlip(),\n",
        "    transforms.ToTensor(),\n",
        "    transforms.Normalize((0.5, 0.5, 0.5), (0.5, 0.5, 0.5))\n",
        "])\n",
        "\n",
        "transform_test = transforms.Compose([\n",
        "    transforms.ToTensor(),\n",
        "    transforms.Normalize((0.5, 0.5, 0.5), (0.5, 0.5, 0.5))\n",
        "])\n",
        "\n",
        "trainset = torchvision.datasets.CIFAR10(root='./data', train=True, download=True, transform=transform_train)\n",
        "trainloader = torch.utils.data.DataLoader(trainset, batch_size=128, shuffle=True)\n",
        "\n",
        "testset = torchvision.datasets.CIFAR10(root='./data', train=False, download=True, transform=transform_test)\n",
        "testloader = torch.utils.data.DataLoader(testset, batch_size=100, shuffle=False)\n"
      ],
      "metadata": {
        "id": "GPNjDTG0YyH2"
      },
      "execution_count": 8,
      "outputs": []
    },
    {
      "cell_type": "code",
      "source": [
        "class CNN(nn.Module):\n",
        "    def __init__(self):\n",
        "        super(CNN, self).__init__()\n",
        "        self.net = nn.Sequential(\n",
        "            nn.Conv2d(3, 64, kernel_size=3, padding=1),\n",
        "            nn.BatchNorm2d(64),\n",
        "            nn.ReLU(),\n",
        "            nn.Conv2d(64, 128, kernel_size=3, padding=1),\n",
        "            nn.BatchNorm2d(128),\n",
        "            nn.ReLU(),\n",
        "            nn.MaxPool2d(2),  # 16x16\n",
        "\n",
        "            nn.Conv2d(128, 256, kernel_size=3, padding=1),\n",
        "            nn.BatchNorm2d(256),\n",
        "            nn.ReLU(),\n",
        "            nn.Conv2d(256, 256, kernel_size=3, padding=1),\n",
        "            nn.ReLU(),\n",
        "            nn.MaxPool2d(2),  # 8x8\n",
        "\n",
        "            nn.Flatten(),\n",
        "            nn.Linear(256*8*8, 512),\n",
        "            nn.ReLU(),\n",
        "            nn.Dropout(0.5),\n",
        "            nn.Linear(512, 10)\n",
        "        )\n",
        "\n",
        "    def forward(self, x):\n",
        "        return self.net(x)"
      ],
      "metadata": {
        "id": "mN0LGSsCY7qL"
      },
      "execution_count": 9,
      "outputs": []
    },
    {
      "cell_type": "code",
      "source": [
        "device = torch.device(\"cuda\" if torch.cuda.is_available() else \"cpu\")\n",
        "model = CNN().to(device)\n",
        "criterion = nn.CrossEntropyLoss()\n",
        "optimizer = torch.optim.Adam(model.parameters(), lr=0.001, weight_decay=1e-4)\n",
        "scheduler = torch.optim.lr_scheduler.StepLR(optimizer, step_size=10, gamma=0.5)\n",
        "\n",
        "train_loss = []\n",
        "epochs = 70\n",
        "\n",
        "for epoch in range(epochs):\n",
        "    running_loss = 0.0\n",
        "    model.train()\n",
        "    for inputs, labels in trainloader:\n",
        "        inputs, labels = inputs.to(device), labels.to(device)\n",
        "\n",
        "        optimizer.zero_grad()\n",
        "        outputs = model(inputs)\n",
        "        loss = criterion(outputs, labels)\n",
        "        loss.backward()\n",
        "        optimizer.step()\n",
        "\n",
        "        running_loss += loss.item()\n",
        "\n",
        "    epoch_loss = running_loss / len(trainloader)\n",
        "    train_loss.append(epoch_loss)\n",
        "    print(f\"Epoch {epoch+1}/{epochs}, Loss: {epoch_loss:.4f}\")\n",
        "    scheduler.step()\n"
      ],
      "metadata": {
        "colab": {
          "base_uri": "https://localhost:8080/"
        },
        "id": "q7uRLKbzY9HT",
        "outputId": "95ee5c24-79db-4f83-fd3d-94e195066906"
      },
      "execution_count": 14,
      "outputs": [
        {
          "output_type": "stream",
          "name": "stdout",
          "text": [
            "Epoch 1/70, Loss: 2.3185\n",
            "Epoch 2/70, Loss: 2.1998\n",
            "Epoch 3/70, Loss: 1.8813\n",
            "Epoch 4/70, Loss: 1.7342\n",
            "Epoch 5/70, Loss: 1.6322\n",
            "Epoch 6/70, Loss: 1.5783\n",
            "Epoch 7/70, Loss: 1.5345\n",
            "Epoch 8/70, Loss: 1.5031\n",
            "Epoch 9/70, Loss: 1.4746\n",
            "Epoch 10/70, Loss: 1.4414\n",
            "Epoch 11/70, Loss: 1.3705\n",
            "Epoch 12/70, Loss: 1.3458\n",
            "Epoch 13/70, Loss: 1.3144\n",
            "Epoch 14/70, Loss: 1.3052\n",
            "Epoch 15/70, Loss: 1.2787\n",
            "Epoch 16/70, Loss: 1.2404\n",
            "Epoch 17/70, Loss: 1.2010\n",
            "Epoch 18/70, Loss: 1.1619\n",
            "Epoch 19/70, Loss: 1.1351\n",
            "Epoch 20/70, Loss: 1.1031\n",
            "Epoch 21/70, Loss: 1.0547\n",
            "Epoch 22/70, Loss: 1.0299\n",
            "Epoch 23/70, Loss: 1.0202\n",
            "Epoch 24/70, Loss: 1.0054\n",
            "Epoch 25/70, Loss: 0.9929\n",
            "Epoch 26/70, Loss: 0.9757\n",
            "Epoch 27/70, Loss: 0.9678\n",
            "Epoch 28/70, Loss: 0.9582\n",
            "Epoch 29/70, Loss: 0.9500\n",
            "Epoch 30/70, Loss: 0.9461\n",
            "Epoch 31/70, Loss: 0.9084\n",
            "Epoch 32/70, Loss: 0.9025\n",
            "Epoch 33/70, Loss: 0.9011\n",
            "Epoch 34/70, Loss: 0.8850\n",
            "Epoch 35/70, Loss: 0.8884\n",
            "Epoch 36/70, Loss: 0.8701\n",
            "Epoch 37/70, Loss: 0.8572\n",
            "Epoch 38/70, Loss: 0.8459\n",
            "Epoch 39/70, Loss: 0.8360\n",
            "Epoch 40/70, Loss: 0.8306\n",
            "Epoch 41/70, Loss: 0.8074\n",
            "Epoch 42/70, Loss: 0.7946\n",
            "Epoch 43/70, Loss: 0.7969\n",
            "Epoch 44/70, Loss: 0.7947\n",
            "Epoch 45/70, Loss: 0.7886\n",
            "Epoch 46/70, Loss: 0.7805\n",
            "Epoch 47/70, Loss: 0.7781\n",
            "Epoch 48/70, Loss: 0.7684\n",
            "Epoch 49/70, Loss: 0.7613\n",
            "Epoch 50/70, Loss: 0.7499\n",
            "Epoch 51/70, Loss: 0.7370\n",
            "Epoch 52/70, Loss: 0.7280\n",
            "Epoch 53/70, Loss: 0.7320\n",
            "Epoch 54/70, Loss: 0.7169\n",
            "Epoch 55/70, Loss: 0.7168\n",
            "Epoch 56/70, Loss: 0.7118\n",
            "Epoch 57/70, Loss: 0.7016\n",
            "Epoch 58/70, Loss: 0.7056\n",
            "Epoch 59/70, Loss: 0.6967\n",
            "Epoch 60/70, Loss: 0.6944\n",
            "Epoch 61/70, Loss: 0.6843\n",
            "Epoch 62/70, Loss: 0.6840\n",
            "Epoch 63/70, Loss: 0.6886\n",
            "Epoch 64/70, Loss: 0.6800\n",
            "Epoch 65/70, Loss: 0.6765\n",
            "Epoch 66/70, Loss: 0.6722\n",
            "Epoch 67/70, Loss: 0.6754\n",
            "Epoch 68/70, Loss: 0.6712\n",
            "Epoch 69/70, Loss: 0.6694\n",
            "Epoch 70/70, Loss: 0.6640\n"
          ]
        }
      ]
    },
    {
      "cell_type": "code",
      "source": [
        "correct = 0\n",
        "total = 0\n",
        "model.eval()\n",
        "with torch.no_grad():\n",
        "    for images, labels in testloader:\n",
        "        images, labels = images.to(device), labels.to(device)\n",
        "        outputs = model(images)\n",
        "        _, predicted = torch.max(outputs.data, 1)\n",
        "        total += labels.size(0)\n",
        "        correct += (predicted == labels).sum().item()\n",
        "\n",
        "print(f\"Test Accuracy: {100 * correct / total:.2f}%\")\n"
      ],
      "metadata": {
        "colab": {
          "base_uri": "https://localhost:8080/"
        },
        "id": "1Vf1nMa5ZEhU",
        "outputId": "680f0074-c8c5-4389-9e1d-15b37f600ad8"
      },
      "execution_count": 11,
      "outputs": [
        {
          "output_type": "stream",
          "name": "stdout",
          "text": [
            "Test Accuracy: 74.12%\n"
          ]
        }
      ]
    },
    {
      "cell_type": "code",
      "source": [
        "plt.plot(range(epochs), train_loss, marker='o')\n",
        "plt.title('Training Loss')\n",
        "plt.xlabel('Epoch')\n",
        "plt.ylabel('Loss')\n",
        "plt.grid(True)\n",
        "plt.show()\n"
      ],
      "metadata": {
        "colab": {
          "base_uri": "https://localhost:8080/",
          "height": 472
        },
        "id": "Sq__jDupZJ5P",
        "outputId": "9d8cfc72-8b82-4336-a9ea-0dc708278b81"
      },
      "execution_count": 12,
      "outputs": [
        {
          "output_type": "display_data",
          "data": {
            "text/plain": [
              "<Figure size 640x480 with 1 Axes>"
            ],
            "image/png": "[encoded data removed]"
          },
          "metadata": {}
        }
      ]
    }
  ]
}